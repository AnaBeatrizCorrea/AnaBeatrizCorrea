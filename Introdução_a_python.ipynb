{
  "nbformat": 4,
  "nbformat_minor": 0,
  "metadata": {
    "colab": {
      "provenance": [],
      "history_visible": true,
      "authorship_tag": "ABX9TyPyrRQtTkPCC56JCvZ/Oi2V",
      "include_colab_link": true
    },
    "kernelspec": {
      "name": "python3",
      "display_name": "Python 3"
    },
    "language_info": {
      "name": "python"
    }
  },
  "cells": [
    {
      "cell_type": "markdown",
      "metadata": {
        "id": "view-in-github",
        "colab_type": "text"
      },
      "source": [
        "<a href=\"https://colab.research.google.com/github/AnaBeatrizCorrea/AnaBeatrizCorrea/blob/main/Introdu%C3%A7%C3%A3o_a_python.ipynb\" target=\"_parent\"><img src=\"https://colab.research.google.com/assets/colab-badge.svg\" alt=\"Open In Colab\"/></a>"
      ]
    },
    {
      "cell_type": "code",
      "execution_count": 10,
      "metadata": {
        "colab": {
          "base_uri": "https://localhost:8080/"
        },
        "id": "XlYxNlhokz3I",
        "outputId": "a3c2ebb2-3352-4feb-c433-75ae661ed19b"
      },
      "outputs": [
        {
          "output_type": "stream",
          "name": "stdout",
          "text": [
            "Primeira Competição da START\n"
          ]
        }
      ],
      "source": [
        "print(\"Primeira Competição da START\")"
      ]
    },
    {
      "cell_type": "code",
      "source": [
        "from re import LOCALE\n",
        "Sequência=\"Segunda\"\n",
        "Local=\"São Paulo\"\n",
        "Tema=\"Meio ambiente\"\n",
        "print(f\"{Sequência} Competição da START-{Local}, Tema da Competição:{Tema}\")\n",
        "Image()"
      ],
      "metadata": {
        "colab": {
          "base_uri": "https://localhost:8080/"
        },
        "id": "Cf-_DmXioVLI",
        "outputId": "7000d008-a39d-41a7-fbf6-2f9ac0c22e89"
      },
      "execution_count": 11,
      "outputs": [
        {
          "output_type": "stream",
          "name": "stdout",
          "text": [
            "Segunda Competição da START-São Paulo, Tema da Competição:Meio ambiente\n"
          ]
        }
      ]
    },
    {
      "cell_type": "code",
      "source": [],
      "metadata": {
        "id": "rmSaqtQhnEO8"
      },
      "execution_count": 11,
      "outputs": []
    }
  ]
}